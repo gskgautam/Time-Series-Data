import pandas as pd
#Scraper class for web scraping
class Scraper:
    def __init__(self):
        self.url='https://www.bls.gov/news.release/eci.nr0.htm'

    #method to extract data
    def extract(self):
        df=pd.read_html(self.url)
        return(df)


eout=Scraper()
result=eout.extract()
print(result[0].head(15))
result[0].to_csv('result.csv')
